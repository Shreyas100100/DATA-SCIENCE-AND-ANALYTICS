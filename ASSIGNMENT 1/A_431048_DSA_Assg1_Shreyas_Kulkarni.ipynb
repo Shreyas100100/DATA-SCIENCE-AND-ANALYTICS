{
 "cells": [
  {
   "cell_type": "markdown",
   "id": "167ad63e-62e2-4136-94fc-4068cbd4391b",
   "metadata": {},
   "source": [
    "ASSIGNMENT 1 DATA SCIENCE AND ANALYTICS    \n",
    "SHREYAS SHRIPAD KULKARNI\n"
   ]
  },
  {
   "cell_type": "code",
   "execution_count": 245,
   "id": "a89a131f-92d0-4595-8b73-dfd358fa8e7e",
   "metadata": {},
   "outputs": [],
   "source": [
    "import numpy as np\n",
    "import pandas as pd\n",
    "import seaborn as sns\n",
    "\n"
   ]
  },
  {
   "cell_type": "code",
   "execution_count": 247,
   "id": "af3a1346-9ee7-41e3-8e82-4d22c66377c6",
   "metadata": {
    "tags": []
   },
   "outputs": [
    {
     "data": {
      "text/html": [
       "<div>\n",
       "<style scoped>\n",
       "    .dataframe tbody tr th:only-of-type {\n",
       "        vertical-align: middle;\n",
       "    }\n",
       "\n",
       "    .dataframe tbody tr th {\n",
       "        vertical-align: top;\n",
       "    }\n",
       "\n",
       "    .dataframe thead th {\n",
       "        text-align: right;\n",
       "    }\n",
       "</style>\n",
       "<table border=\"1\" class=\"dataframe\">\n",
       "  <thead>\n",
       "    <tr style=\"text-align: right;\">\n",
       "      <th></th>\n",
       "      <th>PassengerId</th>\n",
       "      <th>Survived</th>\n",
       "      <th>Pclass</th>\n",
       "      <th>Name</th>\n",
       "      <th>Sex</th>\n",
       "      <th>Age</th>\n",
       "      <th>SibSp</th>\n",
       "      <th>Parch</th>\n",
       "      <th>Ticket</th>\n",
       "      <th>Fare</th>\n",
       "      <th>Cabin</th>\n",
       "      <th>Embarked</th>\n",
       "    </tr>\n",
       "  </thead>\n",
       "  <tbody>\n",
       "    <tr>\n",
       "      <th>0</th>\n",
       "      <td>1</td>\n",
       "      <td>0</td>\n",
       "      <td>3</td>\n",
       "      <td>Braund, Mr. Owen Harris</td>\n",
       "      <td>male</td>\n",
       "      <td>22.0</td>\n",
       "      <td>1</td>\n",
       "      <td>0</td>\n",
       "      <td>A/5 21171</td>\n",
       "      <td>7.2500</td>\n",
       "      <td>NaN</td>\n",
       "      <td>S</td>\n",
       "    </tr>\n",
       "    <tr>\n",
       "      <th>1</th>\n",
       "      <td>2</td>\n",
       "      <td>1</td>\n",
       "      <td>1</td>\n",
       "      <td>Cumings, Mrs. John Bradley (Florence Briggs Th...</td>\n",
       "      <td>female</td>\n",
       "      <td>38.0</td>\n",
       "      <td>1</td>\n",
       "      <td>0</td>\n",
       "      <td>PC 17599</td>\n",
       "      <td>71.2833</td>\n",
       "      <td>C85</td>\n",
       "      <td>C</td>\n",
       "    </tr>\n",
       "    <tr>\n",
       "      <th>2</th>\n",
       "      <td>3</td>\n",
       "      <td>1</td>\n",
       "      <td>3</td>\n",
       "      <td>Heikkinen, Miss. Laina</td>\n",
       "      <td>female</td>\n",
       "      <td>26.0</td>\n",
       "      <td>0</td>\n",
       "      <td>0</td>\n",
       "      <td>STON/O2. 3101282</td>\n",
       "      <td>7.9250</td>\n",
       "      <td>NaN</td>\n",
       "      <td>S</td>\n",
       "    </tr>\n",
       "    <tr>\n",
       "      <th>3</th>\n",
       "      <td>4</td>\n",
       "      <td>1</td>\n",
       "      <td>1</td>\n",
       "      <td>Futrelle, Mrs. Jacques Heath (Lily May Peel)</td>\n",
       "      <td>female</td>\n",
       "      <td>35.0</td>\n",
       "      <td>1</td>\n",
       "      <td>0</td>\n",
       "      <td>113803</td>\n",
       "      <td>53.1000</td>\n",
       "      <td>C123</td>\n",
       "      <td>S</td>\n",
       "    </tr>\n",
       "    <tr>\n",
       "      <th>4</th>\n",
       "      <td>5</td>\n",
       "      <td>0</td>\n",
       "      <td>3</td>\n",
       "      <td>Allen, Mr. William Henry</td>\n",
       "      <td>male</td>\n",
       "      <td>35.0</td>\n",
       "      <td>0</td>\n",
       "      <td>0</td>\n",
       "      <td>373450</td>\n",
       "      <td>8.0500</td>\n",
       "      <td>NaN</td>\n",
       "      <td>S</td>\n",
       "    </tr>\n",
       "  </tbody>\n",
       "</table>\n",
       "</div>"
      ],
      "text/plain": [
       "   PassengerId  Survived  Pclass  \\\n",
       "0            1         0       3   \n",
       "1            2         1       1   \n",
       "2            3         1       3   \n",
       "3            4         1       1   \n",
       "4            5         0       3   \n",
       "\n",
       "                                                Name     Sex   Age  SibSp  \\\n",
       "0                            Braund, Mr. Owen Harris    male  22.0      1   \n",
       "1  Cumings, Mrs. John Bradley (Florence Briggs Th...  female  38.0      1   \n",
       "2                             Heikkinen, Miss. Laina  female  26.0      0   \n",
       "3       Futrelle, Mrs. Jacques Heath (Lily May Peel)  female  35.0      1   \n",
       "4                           Allen, Mr. William Henry    male  35.0      0   \n",
       "\n",
       "   Parch            Ticket     Fare Cabin Embarked  \n",
       "0      0         A/5 21171   7.2500   NaN        S  \n",
       "1      0          PC 17599  71.2833   C85        C  \n",
       "2      0  STON/O2. 3101282   7.9250   NaN        S  \n",
       "3      0            113803  53.1000  C123        S  \n",
       "4      0            373450   8.0500   NaN        S  "
      ]
     },
     "execution_count": 247,
     "metadata": {},
     "output_type": "execute_result"
    }
   ],
   "source": [
    "dataset = pd.read_csv('titanic.csv')\n",
    "dataset.head()"
   ]
  },
  {
   "cell_type": "code",
   "execution_count": 251,
   "id": "3bd2fc6f-677c-4aa8-a65c-814b7edd8a3f",
   "metadata": {
    "tags": []
   },
   "outputs": [
    {
     "name": "stdout",
     "output_type": "stream",
     "text": [
      "<class 'pandas.core.frame.DataFrame'>\n",
      "RangeIndex: 891 entries, 0 to 890\n",
      "Data columns (total 12 columns):\n",
      " #   Column       Non-Null Count  Dtype  \n",
      "---  ------       --------------  -----  \n",
      " 0   PassengerId  891 non-null    int64  \n",
      " 1   Survived     891 non-null    int64  \n",
      " 2   Pclass       891 non-null    int64  \n",
      " 3   Name         891 non-null    object \n",
      " 4   Sex          891 non-null    object \n",
      " 5   Age          714 non-null    float64\n",
      " 6   SibSp        891 non-null    int64  \n",
      " 7   Parch        891 non-null    int64  \n",
      " 8   Ticket       891 non-null    object \n",
      " 9   Fare         891 non-null    float64\n",
      " 10  Cabin        204 non-null    object \n",
      " 11  Embarked     889 non-null    object \n",
      "dtypes: float64(2), int64(5), object(5)\n",
      "memory usage: 83.7+ KB\n"
     ]
    }
   ],
   "source": [
    "dataset.info()"
   ]
  },
  {
   "cell_type": "code",
   "execution_count": 249,
   "id": "2a7f6f2d-fd12-4ed8-b454-c31c529e0e7c",
   "metadata": {
    "tags": []
   },
   "outputs": [
    {
     "data": {
      "text/plain": [
       "PassengerId      0\n",
       "Survived         0\n",
       "Pclass           0\n",
       "Name             0\n",
       "Sex              0\n",
       "Age            177\n",
       "SibSp            0\n",
       "Parch            0\n",
       "Ticket           0\n",
       "Fare             0\n",
       "Cabin          687\n",
       "Embarked         2\n",
       "dtype: int64"
      ]
     },
     "execution_count": 249,
     "metadata": {},
     "output_type": "execute_result"
    }
   ],
   "source": [
    "#This shows the number of NULL values in the Dataset\n",
    "dataset.isna().sum()\n"
   ]
  },
  {
   "cell_type": "code",
   "execution_count": 26,
   "id": "d51aaa21-8d2a-41f8-9893-63fc683693ee",
   "metadata": {
    "tags": []
   },
   "outputs": [
    {
     "data": {
      "text/plain": [
       "PassengerId    0\n",
       "Survived       0\n",
       "Pclass         0\n",
       "Name           0\n",
       "Sex            0\n",
       "Age            0\n",
       "SibSp          0\n",
       "Parch          0\n",
       "Ticket         0\n",
       "Fare           0\n",
       "Cabin          0\n",
       "Embarked       0\n",
       "dtype: int64"
      ]
     },
     "execution_count": 26,
     "metadata": {},
     "output_type": "execute_result"
    }
   ],
   "source": [
    "#Method 1 to Clean Dataset\n",
    "#1.1 Drop rows or columns with missing values\n",
    "dataset.dropna(inplace=True)\n",
    "dataset.dropna(axis=1, inplace=True)\n",
    "dataset.isna().sum()\n"
   ]
  },
  {
   "cell_type": "code",
   "execution_count": 68,
   "id": "f3ed5dcd-ff4e-4af2-80d6-bfda3d872ff7",
   "metadata": {},
   "outputs": [
    {
     "data": {
      "text/plain": [
       "PassengerId    0\n",
       "Survived       0\n",
       "Pclass         0\n",
       "Name           0\n",
       "Sex            0\n",
       "Age            0\n",
       "SibSp          0\n",
       "Parch          0\n",
       "Ticket         0\n",
       "Fare           0\n",
       "Cabin          0\n",
       "Embarked       0\n",
       "dtype: int64"
      ]
     },
     "execution_count": 68,
     "metadata": {},
     "output_type": "execute_result"
    }
   ],
   "source": [
    "#1.2 Fill missing values with mean, median, or mode\n",
    "dataset['Fare'].fillna(dataset['Fare'].mean(), inplace=True)\n",
    "dataset['Age'].fillna(dataset['Age'].median(), inplace=True)\n",
    "dataset['Embarked'].fillna(dataset['Embarked'].mode()[0], inplace=True)\n",
    "dataset['Cabin'].fillna(dataset['Cabin'].mode()[0], inplace=True)\n",
    "\n",
    "dataset.isna().sum()\n"
   ]
  },
  {
   "cell_type": "code",
   "execution_count": 110,
   "id": "785a341b-b8b9-4f52-b5e8-e1ef3e9b5e2f",
   "metadata": {},
   "outputs": [
    {
     "name": "stdout",
     "output_type": "stream",
     "text": [
      "PassengerId      0\n",
      "Survived         0\n",
      "Pclass           0\n",
      "Name             0\n",
      "Sex              0\n",
      "Age            177\n",
      "SibSp            0\n",
      "Parch            0\n",
      "Ticket           0\n",
      "Fare             0\n",
      "Cabin            0\n",
      "Embarked         2\n",
      "dtype: int64\n"
     ]
    }
   ],
   "source": [
    "#1.3 Fill the NULL/Missing Values with a specific value\n",
    "dataset.Cabin = dataset.Cabin.fillna(\"0\")\n",
    "print(dataset.isnull().sum())"
   ]
  },
  {
   "cell_type": "code",
   "execution_count": 70,
   "id": "a520e24d-f303-4892-912e-430d49e1f983",
   "metadata": {},
   "outputs": [
    {
     "name": "stdout",
     "output_type": "stream",
     "text": [
      "Number of duplicates: 0\n"
     ]
    }
   ],
   "source": [
    "#Method 2 Removing Duplicates\n",
    "num_duplicates = dataset.duplicated().sum()\n",
    "\n",
    "print(\"Number of duplicates:\", num_duplicates)\n",
    "\n",
    "\n",
    "# dataset.drop_duplicates(inplace=True)\n"
   ]
  },
  {
   "cell_type": "code",
   "execution_count": 17,
   "id": "ce7ff970-994b-4a30-914c-a04959fd9fd3",
   "metadata": {},
   "outputs": [
    {
     "data": {
      "text/plain": [
       "PassengerId      0\n",
       "Survived         0\n",
       "Pclass           0\n",
       "Name             0\n",
       "Sex              0\n",
       "Age            177\n",
       "SibSp            0\n",
       "Parch            0\n",
       "Ticket           0\n",
       "Fare             0\n",
       "Cabin          687\n",
       "Embarked         2\n",
       "dtype: int64"
      ]
     },
     "execution_count": 17,
     "metadata": {},
     "output_type": "execute_result"
    }
   ],
   "source": [
    "#Method 3 Handling Outliers\n",
    "#3.1 Identify outliers using statistical methods such as z-score or IQR (Interquartile Range).\n",
    "z_scores = np.abs((dataset['Age'] - dataset['Age'].mean()) / dataset['Age'].std())\n",
    "outliers_zscore = dataset[z_scores > 3]\n",
    "\n",
    "# Identify outliers using IQR\n",
    "Q1 = dataset['Fare'].quantile(0.25)\n",
    "Q3 = dataset['Fare'].quantile(0.75)\n",
    "IQR = Q3 - Q1\n",
    "outliers_iqr = dataset[(dataset['Fare'] < Q1 - 1.5 * IQR) | (dataset['Fare'] > Q3 + 1.5 * IQR)]\n",
    "dataset.isna().sum()\n"
   ]
  },
  {
   "cell_type": "code",
   "execution_count": 37,
   "id": "dbd75a90-d755-4613-a916-ba448b6aed68",
   "metadata": {},
   "outputs": [
    {
     "data": {
      "text/plain": [
       "PassengerId      0\n",
       "Survived         0\n",
       "Pclass           0\n",
       "Name             0\n",
       "Sex              0\n",
       "Age            162\n",
       "SibSp            0\n",
       "Parch            0\n",
       "Ticket           0\n",
       "Fare             0\n",
       "Cabin          659\n",
       "Embarked         0\n",
       "dtype: int64"
      ]
     },
     "execution_count": 37,
     "metadata": {},
     "output_type": "execute_result"
    }
   ],
   "source": [
    "#3.2 Remove outliers by filtering the dataset based on the identified outliers.\n",
    "z_scores = (dataset['Fare'] - dataset['Fare'].mean()) / dataset['Fare'].std()\n",
    "dataset = dataset[~(z_scores > 3)]\n",
    "\n",
    "# Remove outliers identified using IQR\n",
    "Q1 = dataset['Fare'].quantile(0.25)\n",
    "Q3 = dataset['Fare'].quantile(0.75)\n",
    "IQR = Q3 - Q1\n",
    "dataset = dataset[~((dataset['Fare'] < Q1 - 1.5 * IQR) | (dataset['Fare'] > Q3 + 1.5 * IQR))]\n",
    "\n",
    "# Check for missing values\n",
    "dataset.isna().sum()"
   ]
  },
  {
   "cell_type": "code",
   "execution_count": 234,
   "id": "0b670dd6-f35a-4af6-b647-3fbb6e9f2887",
   "metadata": {},
   "outputs": [
    {
     "name": "stdout",
     "output_type": "stream",
     "text": [
      "       PassengerId    Survived      Pclass         Age       SibSp  \\\n",
      "count   891.000000  891.000000  891.000000  714.000000  891.000000   \n",
      "mean    446.000000    0.383838    2.308642   29.699118    0.523008   \n",
      "std     257.353842    0.486592    0.836071   14.526497    1.102743   \n",
      "min       1.000000    0.000000    1.000000    0.420000    0.000000   \n",
      "25%     223.500000    0.000000    2.000000   20.125000    0.000000   \n",
      "50%     446.000000    0.000000    3.000000   28.000000    0.000000   \n",
      "75%     668.500000    1.000000    3.000000   38.000000    1.000000   \n",
      "max     891.000000    1.000000    3.000000   80.000000    8.000000   \n",
      "\n",
      "            Parch        Fare  \n",
      "count  891.000000  891.000000  \n",
      "mean     0.381594   32.204208  \n",
      "std      0.806057   49.693429  \n",
      "min      0.000000    0.000000  \n",
      "25%      0.000000    7.910400  \n",
      "50%      0.000000   14.454200  \n",
      "75%      0.000000   31.000000  \n",
      "max      6.000000  512.329200  \n"
     ]
    }
   ],
   "source": [
    "#Descriptive Statistical Analysis\n",
    "#1.1 Summary Statistics for Numeric Columns\n",
    "numeric_summary = dataset.describe()\n",
    "print(numeric_summary)"
   ]
  },
  {
   "cell_type": "code",
   "execution_count": 255,
   "id": "1d921565-fec1-4405-b1cd-bc38f95e63f3",
   "metadata": {},
   "outputs": [
    {
     "name": "stdout",
     "output_type": "stream",
     "text": [
      "Sex Distribution:\n",
      "male      577\n",
      "female    314\n",
      "Name: Sex, dtype: int64\n",
      "\n",
      "Embarked Distribution:\n",
      "S    644\n",
      "C    168\n",
      "Q     77\n",
      "Name: Embarked, dtype: int64\n"
     ]
    }
   ],
   "source": [
    "# 1.2 Summary Statistics for Categorical Columns\n",
    "categorical_summary_sex = dataset[\"Sex\"].value_counts()\n",
    "categorical_summary_embarked = dataset[\"Embarked\"].value_counts()\n",
    "\n",
    "print(\"Sex Distribution:\")\n",
    "print(categorical_summary_sex)\n",
    "print(\"\\nEmbarked Distribution:\")\n",
    "print(categorical_summary_embarked)"
   ]
  },
  {
   "cell_type": "code",
   "execution_count": 238,
   "id": "4acc0e20-12f0-447d-96ae-3f5f220bcd2a",
   "metadata": {},
   "outputs": [
    {
     "data": {
      "text/plain": [
       "PassengerId      0\n",
       "Survived         0\n",
       "Pclass           0\n",
       "Name             0\n",
       "Sex              0\n",
       "Age            177\n",
       "SibSp            0\n",
       "Parch            0\n",
       "Ticket           0\n",
       "Fare             0\n",
       "Cabin          687\n",
       "Embarked         2\n",
       "dtype: int64"
      ]
     },
     "execution_count": 238,
     "metadata": {},
     "output_type": "execute_result"
    }
   ],
   "source": [
    "#1.3 Count the number of missing values\n",
    "dataset.isna().sum()\n"
   ]
  },
  {
   "cell_type": "code",
   "execution_count": 156,
   "id": "7185693b-e828-44ed-92d7-6a099665655a",
   "metadata": {},
   "outputs": [
    {
     "data": {
      "image/png": "[encoded data removed]",
      "text/plain": [
       "<Figure size 640x480 with 1 Axes>"
      ]
     },
     "metadata": {},
     "output_type": "display_data"
    }
   ],
   "source": [
    "dataset = sns.load_dataset('titanic')\n",
    "sns.countplot(x='survived', data=dataset,)\n",
    "plt.xlabel('Survived')\n",
    "plt.ylabel('Count')\n",
    "plt.title('Survival Count')\n",
    "plt.show()\n",
    "# 0-> Not Survived\n",
    "# 1-> Survived"
   ]
  },
  {
   "cell_type": "code",
   "execution_count": 162,
   "id": "7a39a8ae-eb29-4343-82bf-b1b5bafc6070",
   "metadata": {},
   "outputs": [
    {
     "data": {
      "image/png": "[encoded data removed]",
      "text/plain": [
       "<Figure size 640x480 with 1 Axes>"
      ]
     },
     "metadata": {},
     "output_type": "display_data"
    }
   ],
   "source": [
    "dataset = sns.load_dataset('titanic')\n",
    "male = dataset[dataset['sex'] == 'male']\n",
    "female = dataset[dataset['sex'] == 'female']\n",
    "\n",
    "male_survived = male[male['survived'] == 1].shape[0]\n",
    "male_dead = male[male['survived'] == 0].shape[0]\n",
    "female_survived = female[female['survived'] == 1].shape[0]\n",
    "female_dead = female[female['survived'] == 0].shape[0]\n",
    "\n",
    "plt.bar(['Male', 'Female'], [male_survived, female_survived], label='Survived')\n",
    "plt.bar(['Male', 'Female'], [male_dead, female_dead], bottom=[male_survived, female_survived], label='Dead')\n",
    "plt.title('Survival by Gender')\n",
    "plt.xlabel('Gender')\n",
    "plt.ylabel('Count')\n",
    "plt.legend()\n",
    "plt.show()"
   ]
  },
  {
   "cell_type": "code",
   "execution_count": 158,
   "id": "c4e1eb54-5380-4fd0-87a4-54077fad90c9",
   "metadata": {},
   "outputs": [
    {
     "data": {
      "image/png": "[encoded data removed]",
      "text/plain": [
       "<Figure size 640x480 with 1 Axes>"
      ]
     },
     "metadata": {},
     "output_type": "display_data"
    }
   ],
   "source": [
    "dataset = pd.read_csv('titanic.csv')\n",
    "\n",
    "survived_count = dataset['Survived'].value_counts()\n",
    "\n",
    "survival_percentage = survived_count / len(dataset) * 100\n",
    "\n",
    "plt.bar(survived_count.index, survived_count.values)\n",
    "plt.xlabel('Survived')\n",
    "plt.ylabel('Count')\n",
    "plt.title('Survival Count')\n",
    "plt.xticks(survived_count.index, ['No', 'Yes'])\n",
    "\n",
    "plt.text(0, survived_count[0], f'{survived_count[0]} ({survival_percentage[0]:.2f}%)', ha='center', va='bottom')\n",
    "plt.text(1, survived_count[1], f'{survived_count[1]} ({survival_percentage[1]:.2f}%)', ha='center', va='bottom')\n",
    "\n",
    "plt.show()"
   ]
  },
  {
   "cell_type": "code",
   "execution_count": 218,
   "id": "0e2fbcc6-b300-4ae3-8579-7aedd0b912e2",
   "metadata": {},
   "outputs": [
    {
     "data": {
      "image/png": "[encoded data removed]",
      "text/plain": [
       "<Figure size 640x480 with 1 Axes>"
      ]
     },
     "metadata": {},
     "output_type": "display_data"
    },
    {
     "name": "stdout",
     "output_type": "stream",
     "text": [
      "Males Survived =  109\n",
      "Males Dead =  468\n",
      "Females Survived =  233\n",
      "Females Dead =  81\n",
      "Male Survived =  18.89 %\n",
      "Female Survived =  74.2 %\n"
     ]
    }
   ],
   "source": [
    "dataset = sns.load_dataset('titanic')\n",
    "male = dataset[dataset['sex'] == 'male']\n",
    "female = dataset[dataset['sex'] == 'female']\n",
    "\n",
    "male_survived = male[male['survived'] == 1].shape[0]\n",
    "male_dead = male[male['survived'] == 0].shape[0]\n",
    "female_survived = female[female['survived'] == 1].shape[0]\n",
    "female_dead = female[female['survived'] == 0].shape[0]\n",
    "\n",
    "plt.bar(['Male', 'Female'], [male_survived, female_survived], label='Survived')\n",
    "plt.bar(['Male', 'Female'], [male_dead, female_dead], bottom=[male_survived, female_survived], label='Dead')\n",
    "plt.title('Survival by Gender')\n",
    "plt.xlabel('Gender')\n",
    "plt.ylabel('Count')\n",
    "plt.legend()\n",
    "plt.show()\n",
    "\n",
    "print('Males Survived = ',male_survived)\n",
    "print(\"Males Dead = \",male_dead)\n",
    "print('Females Survived = ',female_survived)\n",
    "print('Females Dead = ',female_dead)\n",
    "\n",
    "percentage_male_survived=round((100*(male_survived)/(male_survived+male_dead)),2)\n",
    "print('Male Survived = ',percentage_male_survived,'%')\n",
    "\n",
    "percentage_female_survived=round((100*(female_survived)/(female_survived+female_dead)),2)\n",
    "print('Female Survived = ',percentage_female_survived,'%')"
   ]
  }
 ],
 "metadata": {
  "kernelspec": {
   "display_name": "anaconda-panel-2023.05-py310",
   "language": "python",
   "name": "conda-env-anaconda-panel-2023.05-py310-py"
  },
  "language_info": {
   "codemirror_mode": {
    "name": "ipython",
    "version": 3
   },
   "file_extension": ".py",
   "mimetype": "text/x-python",
   "name": "python",
   "nbconvert_exporter": "python",
   "pygments_lexer": "ipython3",
   "version": "3.11.4"
  }
 },
 "nbformat": 4,
 "nbformat_minor": 5
}
